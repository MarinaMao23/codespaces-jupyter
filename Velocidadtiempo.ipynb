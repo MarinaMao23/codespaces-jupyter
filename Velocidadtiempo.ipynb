{
 "cells": [
  {
   "cell_type": "code",
   "execution_count": null,
   "metadata": {},
   "outputs": [],
   "source": [
    "distancia = float(input(\"Ingrese la distancia que recorrerá la onda de sonido en metros: \"))\n",
    "velocidad_del_sonido = 343  \n",
    "tiempo = distancia / velocidad_del_sonido\n",
    "print(\"El tiempo que tardará la onda de sonido en recorrer metros es de aproximadamente segundos.\")\n",
    "\n",
    "\n",
    "\n"
   ]
  }
 ],
 "metadata": {
  "language_info": {
   "name": "python"
  }
 },
 "nbformat": 4,
 "nbformat_minor": 2
}
