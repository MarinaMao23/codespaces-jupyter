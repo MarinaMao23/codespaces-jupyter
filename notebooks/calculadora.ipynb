{
 "cells": [
  {
   "cell_type": "code",
   "execution_count": null,
   "metadata": {},
   "outputs": [],
   "source": [
    "Numero1 = float (input(\"Escribe un numero \"))\n",
    "Numero2 = float (input(\"Escribe otro numero \"))\n",
    "if Operacion=\"+\"=\n",
    "    print(Numero1+Numero2)\n",
    "if Operacion=\"-\":\n",
    "    print(Numero1-Numero2)\n",
    "if Operacion=\"*\"=\n",
    "    print(Numero1*Numero2)\n",
    "if Operacion=\"/\"\n",
    "    print(Numero1/Numero2)"
   ]
  }
 ],
 "metadata": {
  "language_info": {
   "name": "python"
  }
 },
 "nbformat": 4,
 "nbformat_minor": 2
}
