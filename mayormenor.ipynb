{
 "cells": [
  {
   "cell_type": "code",
   "execution_count": null,
   "metadata": {},
   "outputs": [],
   "source": [
    "Numeroentero1 = float (input\"Escribe un numero entero\")\n",
    "Numeroentero2 = float (\"Escribe otro numero entero\")\n",
    "if Numeroentero1>= Numeroentero2\n",
    "print(Numeroentero1>=Numeroentero2)\n",
    "if Numeroentero1<=Numeroentero2:\n",
    "    print(\"Eres mayor de edad\")\n",
    "else:\n",
    "    print(\"Eres menor de edad\" )"
   ]
  }
 ],
 "metadata": {
  "language_info": {
   "name": "python"
  }
 },
 "nbformat": 4,
 "nbformat_minor": 2
}
